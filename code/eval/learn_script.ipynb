{
 "cells": [
  {
   "cell_type": "code",
   "execution_count": 4,
   "metadata": {},
   "outputs": [],
   "source": [
    "# Copyright (c) Microsoft Corporation.\n",
    "# Licensed under the MIT license.\n",
    "\n",
    "import argparse\n",
    "import json\n",
    "import math\n",
    "import os\n",
    "import random\n",
    "import re\n",
    "import sys\n",
    "import threading\n",
    "import time\n",
    "from datetime import datetime\n",
    "from typing import *\n",
    "\n",
    "import numpy as np\n",
    "import openai\n",
    "from rapidfuzz import fuzz\n",
    "from tqdm import tqdm"
   ]
  },
  {
   "cell_type": "code",
   "execution_count": null,
   "metadata": {},
   "outputs": [],
   "source": [
    "def read_jsonl(fpath: str) -> List[Dict]:\n",
    "    res = []\n",
    "    with open(fpath, 'r') as f:\n",
    "        for line in f:\n",
    "            data = json.loads(line)\n",
    "            res.append(data)\n",
    "    return res\n",
    "\n",
    "def write_jsonl(obj, fpath: str):\n",
    "    with open(fpath, 'w') as f:\n",
    "        for entry in obj:\n",
    "            json.dump(entry, f)\n",
    "            f.write('\\n')\n"
   ]
  },
  {
   "cell_type": "code",
   "execution_count": null,
   "metadata": {},
   "outputs": [],
   "source": [
    "gpt4o=read_jsonl('code/outputs/gpt4o.jsonl')\n",
    "gpt4o_rank_break_down=read_jsonl('code/outputs/gpt4o_break_down.jsonl')\n",
    "gpt4o_break_down_with_rationale =read_jsonl('code/outputs/gpt4o_break_down_with_rationale.jsonl')"
   ]
  },
  {
   "cell_type": "code",
   "execution_count": 25,
   "metadata": {},
   "outputs": [],
   "source": [
    "def hit_judge(msg: str, target: str, thres: float=80):\n",
    "    msg = re.sub(r\"[^a-zA-Z0-9\\s]\", \"\", msg.lower())\n",
    "    target = re.sub(r\"[^a-zA-Z0-9\\s]\", \"\", target.lower())\n",
    "    if fuzz.partial_ratio(msg, target) > thres:\n",
    "        return True\n",
    "    else:\n",
    "        return False\n",
    "\n",
    "def get_rank(pred: str, target: str):\n",
    "    # 解析出answer中的 字典部分\n",
    "    pattern = r\"\\{.*?\\}\"\n",
    "    json_str = re.findall(pattern, pred, re.DOTALL)\n",
    "    if json_str:\n",
    "        pred = json_str[0]\n",
    "        try:\n",
    "            pred = json.loads(pred)\n",
    "            pred = {k.strip(): v for k, v in pred.items()}\n",
    "        except:\n",
    "            return -1\n",
    "    else:\n",
    "        return -1\n",
    "    \n",
    "    if target not in pred:\n",
    "        for k, v in pred.items():\n",
    "            k = str(k)\n",
    "            if hit_judge(k, target, 90):\n",
    "                try:\n",
    "                    rank = int(v)\n",
    "                    return rank\n",
    "                except:\n",
    "                    rank = -1\n",
    "        return -1\n",
    "\n",
    "    try:\n",
    "        rank = int(pred[target])\n",
    "    except:\n",
    "        return -1\n",
    "    return rank\n",
    "\n",
    "def eval_ndcg(data):\n",
    "    ndcg = []\n",
    "    mr = []\n",
    "    for i, d in enumerate(tqdm(data)):\n",
    "        rank = get_rank(d['response'], d['target'])\n",
    "        \n",
    "        if rank > 0: # 若找到rank\n",
    "            ndcg.append(1/math.log2(rank + 1))\n",
    "        else:\n",
    "            ndcg.append(0)\n",
    "    final_ndcg = sum(ndcg) / len(ndcg)\n",
    "    return {f\"NDCG@20\": final_ndcg}   "
   ]
  },
  {
   "cell_type": "code",
   "execution_count": 28,
   "metadata": {},
   "outputs": [
    {
     "name": "stderr",
     "output_type": "stream",
     "text": [
      "100%|██████████| 100/100 [00:00<00:00, 25189.50it/s]\n"
     ]
    },
    {
     "data": {
      "text/plain": [
       "{'NDCG@20': 0.3589020506309217}"
      ]
     },
     "execution_count": 28,
     "metadata": {},
     "output_type": "execute_result"
    }
   ],
   "source": [
    "eval_ndcg(gpt4o)"
   ]
  },
  {
   "cell_type": "code",
   "execution_count": 26,
   "metadata": {},
   "outputs": [
    {
     "name": "stderr",
     "output_type": "stream",
     "text": [
      "100%|██████████| 100/100 [00:00<00:00, 24358.58it/s]\n"
     ]
    },
    {
     "data": {
      "text/plain": [
       "{'NDCG@20': 0.3532655614231814}"
      ]
     },
     "execution_count": 26,
     "metadata": {},
     "output_type": "execute_result"
    }
   ],
   "source": [
    "eval_ndcg(gpt4o_rank_break_down)"
   ]
  },
  {
   "cell_type": "code",
   "execution_count": 34,
   "metadata": {},
   "outputs": [
    {
     "name": "stderr",
     "output_type": "stream",
     "text": [
      "100%|██████████| 100/100 [00:00<00:00, 24858.08it/s]\n"
     ]
    },
    {
     "data": {
      "text/plain": [
       "{'NDCG@20': 0.3656314316236756}"
      ]
     },
     "execution_count": 34,
     "metadata": {},
     "output_type": "execute_result"
    }
   ],
   "source": [
    "eval_ndcg(gpt4o_break_down_with_rationale)"
   ]
  }
 ],
 "metadata": {
  "kernelspec": {
   "display_name": "interecagent",
   "language": "python",
   "name": "python3"
  },
  "language_info": {
   "codemirror_mode": {
    "name": "ipython",
    "version": 3
   },
   "file_extension": ".py",
   "mimetype": "text/x-python",
   "name": "python",
   "nbconvert_exporter": "python",
   "pygments_lexer": "ipython3",
   "version": "3.9.0"
  }
 },
 "nbformat": 4,
 "nbformat_minor": 2
}
